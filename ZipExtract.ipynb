{
 "cells": [
  {
   "cell_type": "markdown",
   "id": "39d7149c",
   "metadata": {},
   "source": [
    "# 폴더 생성 후 압축 파일 해제"
   ]
  },
  {
   "cell_type": "code",
   "execution_count": null,
   "id": "3947b0ad",
   "metadata": {},
   "outputs": [],
   "source": [
    "import os\n",
    "import zipfile\n",
    "def ExtractZipfiles(zipFileList:list,zipFolderPath:str): # O(n^2)\n",
    "    for zipFile in zipFileList:\n",
    "        zip_filename = os.path.splitext(os.path.basename(zipFile))[0]\n",
    "        extract_folder = os.path.join(zipFolderPath,zip_filename)\n",
    "        with zipfile.ZipFile(os.path.join(zipFolderPath,zipFile)) as zip_ref:\n",
    "            zip_ref.extractall(extract_folder)\n",
    "            \n",
    "zipFolderPath = \"../Data/Training/01.원천데이터/\" # 압축 해제 파일이 있는 경로\n",
    "zipFileList = os.listdir(zipFolderPath) # 압축 해제해야할 집파일 리스트\n",
    "ExtractZipfiles(zipFileList,zipFolderPath)\n",
    "\n",
    "zipFolderPath = \"../Data/Training/02.라벨링데이터/\" # 압축 해제 파일이 있는 경로\n",
    "zipFileList = os.listdir(zipFolderPath) # 압축 해제해야할 집파일 리스트\n",
    "ExtractZipfiles(zipFileList,zipFolderPath)\n",
    "\n",
    "zipFolderPath = \"../Data/Validation/01.원천데이터/\" # 압축 해제 파일이 있는 경로\n",
    "zipFileList = os.listdir(zipFolderPath) # 압축 해제해야할 집파일 리스트\n",
    "ExtractZipfiles(zipFileList,zipFolderPath)\n",
    "\n",
    "zipFolderPath = \"../Data/Validation/02.라벨링데이터/\" # 압축 해제 파일이 있는 경로\n",
    "zipFileList = os.listdir(zipFolderPath) # 압축 해제해야할 집파일 리스트\n",
    "ExtractZipfiles(zipFileList,zipFolderPath)"
   ]
  }
 ],
 "metadata": {
  "kernelspec": {
   "display_name": "MedicalProject",
   "language": "python",
   "name": "python3"
  },
  "language_info": {
   "codemirror_mode": {
    "name": "ipython",
    "version": 3
   },
   "file_extension": ".py",
   "mimetype": "text/x-python",
   "name": "python",
   "nbconvert_exporter": "python",
   "pygments_lexer": "ipython3",
   "version": "3.10.18"
  }
 },
 "nbformat": 4,
 "nbformat_minor": 5
}
